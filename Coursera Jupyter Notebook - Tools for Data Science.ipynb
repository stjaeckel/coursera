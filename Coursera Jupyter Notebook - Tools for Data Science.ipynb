{
 "cells": [
  {
   "cell_type": "markdown",
   "metadata": {
    "collapsed": true
   },
   "source": [
    "<h1>My Jupyter Notebook on IBM Watson Studio</h1>"
   ]
  },
  {
   "cell_type": "markdown",
   "metadata": {},
   "source": [
    "<b>Stephan Jaeckel</b>"
   ]
  },
  {
   "cell_type": "markdown",
   "metadata": {},
   "source": [
    "<i>I worked in electrical engineering for 12 years, and attaind a PHD, \n",
    "    specializing in in the propagation of wireless signals in the environment. \n",
    "    I had much contact with data-science related topics such as statistical \n",
    "    analysis, modeling and simulation techniques. I want to broaden my skill-set \n",
    "    towards machine learning, deep learning, big data, cloud computing and gain \n",
    "    experience with the latest tools and best practices. I am fascinated about many topics \n",
    "    that are challenging to solve with traditional (e.g. model based) \n",
    "    approaches and hope to contribute to (and maybe lead) meaningful \n",
    "    projects in the fields of science and technology.</i>"
   ]
  },
  {
   "cell_type": "markdown",
   "metadata": {},
   "source": [
    "<h3>Add two random numbers</h3>"
   ]
  },
  {
   "cell_type": "code",
   "execution_count": 2,
   "metadata": {},
   "outputs": [
    {
     "data": {
      "text/plain": [
       "'0.7513051342337308 + 0.15191565584594446 = 0.9032207900796753'"
      ]
     },
     "metadata": {},
     "output_type": "display_data"
    }
   ],
   "source": [
    "import numpy as np\n",
    "a = np.random.rand(1,1)\n",
    "b = np.random.rand(1,1)\n",
    "c = a+b\n",
    "display(f\"{a[0,0]} + {b[0,0]} = {c[0,0]}\")\n"
   ]
  },
  {
   "cell_type": "markdown",
   "metadata": {},
   "source": [
    " <ul>\n",
    "  <li>Coffee</li>\n",
    "  <li>Tea</li>\n",
    "  <li>Milk</li>\n",
    "</ul> \n",
    "<hr>\n",
    "<a href=\"https://www.coursera.org/professional-certificates/ibm-data-science\">Super Cool Coursera Course</a>\n",
    " <table>\n",
    "  <tr>\n",
    "    <th>Company</th>\n",
    "    <th>Contact</th>\n",
    "    <th>Country</th>\n",
    "  </tr>\n",
    "  <tr>\n",
    "    <td>Alfreds Futterkiste</td>\n",
    "    <td>Maria Anders</td>\n",
    "    <td>Germany</td>\n",
    "  </tr>\n",
    "  <tr>\n",
    "    <td>Centro comercial Moctezuma</td>\n",
    "    <td>Francisco Chang</td>\n",
    "    <td>Mexico</td>\n",
    "  </tr>\n",
    "</table> "
   ]
  }
 ],
 "metadata": {
  "kernelspec": {
   "display_name": "Python 3.10.6 ('tf-cpu')",
   "language": "python",
   "name": "python3"
  },
  "language_info": {
   "codemirror_mode": {
    "name": "ipython",
    "version": 3
   },
   "file_extension": ".py",
   "mimetype": "text/x-python",
   "name": "python",
   "nbconvert_exporter": "python",
   "pygments_lexer": "ipython3",
   "version": "3.10.6"
  },
  "vscode": {
   "interpreter": {
    "hash": "540605f47e0eb2aad6c3d47e7c18257d1d9bd984735cd34946e059ced999b0c5"
   }
  }
 },
 "nbformat": 4,
 "nbformat_minor": 1
}
